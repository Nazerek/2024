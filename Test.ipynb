{
 "cells": [
  {
   "cell_type": "code",
   "execution_count": 1,
   "id": "98939794-8837-4185-9b67-1995b47250e3",
   "metadata": {},
   "outputs": [],
   "source": [
    "import brownian"
   ]
  },
  {
   "cell_type": "code",
   "execution_count": 2,
   "id": "ffeb5e79-0c2b-4b01-889f-cc36940bc32e",
   "metadata": {},
   "outputs": [],
   "source": [
    "robot=brownian.create_robot()"
   ]
  },
  {
   "cell_type": "code",
   "execution_count": 3,
   "id": "6b1d1fa0-d6da-44d1-b1b9-4d052f8c83a0",
   "metadata": {},
   "outputs": [
    {
     "name": "stdout",
     "output_type": "stream",
     "text": [
      "Done. \n"
     ]
    }
   ],
   "source": [
    "brownian.visualize(robot, 20)"
   ]
  },
  {
   "cell_type": "code",
   "execution_count": null,
   "id": "84b7a3e4-82f5-402c-9040-1256ff5257f8",
   "metadata": {},
   "outputs": [],
   "source": []
  }
 ],
 "metadata": {
  "kernelspec": {
   "display_name": "Python 3 (ipykernel)",
   "language": "python",
   "name": "python3"
  },
  "language_info": {
   "codemirror_mode": {
    "name": "ipython",
    "version": 3
   },
   "file_extension": ".py",
   "mimetype": "text/x-python",
   "name": "python",
   "nbconvert_exporter": "python",
   "pygments_lexer": "ipython3",
   "version": "3.11.7"
  }
 },
 "nbformat": 4,
 "nbformat_minor": 5
}
