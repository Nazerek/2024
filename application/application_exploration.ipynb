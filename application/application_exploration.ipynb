{
 "cells": [
  {
   "cell_type": "code",
   "execution_count": 1,
   "id": "eb1f08e9-5238-4d3e-8b99-7c7a445daf64",
   "metadata": {},
   "outputs": [],
   "source": [
    "import numpy as np\n",
    "import random\n",
    "import time\n",
    "import math\n",
    "import matplotlib.pyplot as plt\n",
    "import imageio.v2 as imageio\n",
    "import os"
   ]
  },
  {
   "cell_type": "code",
   "execution_count": 2,
   "id": "a0948792-638f-450b-b352-a8cb61431177",
   "metadata": {},
   "outputs": [],
   "source": [
    "class Environment_obstacle(object):\n",
    "    def __init__(self, width):\n",
    "      self.width =width\n",
    "      self.map = np.zeros((width*1,width*1))\n",
    "      self.obstacle_state= random.sample(range(1, width-1), 2)\n",
    "      self.map[self.obstacle_state[0]][self.obstacle_state[1]]=1"
   ]
  },
  {
   "cell_type": "code",
   "execution_count": 3,
   "id": "37087488-31ff-4197-ad7a-33552f03d4ef",
   "metadata": {},
   "outputs": [],
   "source": [
    "class Robot(object):\n",
    "    def __init__(self, x, space_env, radius,  v_speed = 1.0, w_speed = math.pi/8):\n",
    "\n",
    "      self.state=x\n",
    "\n",
    "      #direction is in radians\n",
    "      self.dir = 0\n",
    "      self.v_speed = v_speed\n",
    "\n",
    "      #angular speed is in radians/step\n",
    "      self.w_speed = w_speed\n",
    "      self.env = space_env\n",
    "      self.radius = radius\n",
    "\n",
    "    def step(self):\n",
    "      new_state = self.state + self.v_speed * np.array([np.cos(self.dir),np.sin(self.dir)])\n",
    "      obstacle = False\n",
    "      collision=False\n",
    "      if new_state[0]>self.env.width-self.radius or new_state[0]<self.radius or new_state[1]>self.env.width-self.radius or new_state[1]<self.radius:\n",
    "        self.dir = -self.dir\n",
    "        collision=True\n",
    "\n",
    "      if abs(new_state[0]-self.env.obstacle_state[0]) <= self.radius and abs(new_state[1]- self.env.obstacle_state[1]) <= self.radius:\n",
    "        obstacle = True\n",
    "\n",
    "      if collision:\n",
    "        duration = random.randint(2, 10)\n",
    "        for i in range(duration):\n",
    "          self.dir += self.w_speed\n",
    "      \n",
    "      self.state[0] = min(max(new_state[0],self.radius),self.env.width-self.radius)\n",
    "      self.state[1] = min(max(new_state[1],self.radius),self.env.width-self.radius)\n",
    "      self.env.map[round(self.state[0])][round(self.state[1])]=0.5\n",
    "        \n",
    "      return obstacle"
   ]
  },
  {
   "cell_type": "code",
   "execution_count": 25,
   "id": "c244bb55-7c0f-4afc-bf27-7b176b823465",
   "metadata": {},
   "outputs": [],
   "source": [
    "def create_robot(square_width=20,robot_radius=1):\n",
    "  if robot_radius>square_width/4:\n",
    "    print(\"Not enough space, overwriting... \")\n",
    "    square_width=20\n",
    "    robot_radius=1\n",
    "\n",
    "  x0=np.array([square_width/2, square_width/2])\n",
    "  space_env = Environment_obstacle(square_width)\n",
    "  robot = Robot(x0, space_env, robot_radius)\n",
    "  return robot"
   ]
  },
  {
   "cell_type": "code",
   "execution_count": 26,
   "id": "1428559e-33d1-439e-98ac-63b410ede3e5",
   "metadata": {},
   "outputs": [],
   "source": [
    "robot = create_robot()"
   ]
  },
  {
   "cell_type": "code",
   "execution_count": 27,
   "id": "ed17f7b7-3bda-45c9-95c0-8c0e17c3468e",
   "metadata": {},
   "outputs": [
    {
     "name": "stdout",
     "output_type": "stream",
     "text": [
      "Obstacle found around  [11.16267486 15.17316568]\n"
     ]
    }
   ],
   "source": [
    "obstacle = False\n",
    "for i in range(1000):\n",
    "      obstacle = robot.step()\n",
    "      if obstacle:\n",
    "          print(\"Obstacle found around \",robot.state)\n",
    "          break"
   ]
  },
  {
   "cell_type": "code",
   "execution_count": 29,
   "id": "ff361de0-0acf-4b56-bbe3-52e7cc19f351",
   "metadata": {},
   "outputs": [
    {
     "data": {
      "text/plain": [
       "<matplotlib.image.AxesImage at 0x11bfc36d0>"
      ]
     },
     "execution_count": 29,
     "metadata": {},
     "output_type": "execute_result"
    },
    {
     "data": {
      "image/png": "[encoded data removed]",
      "text/plain": [
       "<Figure size 640x480 with 1 Axes>"
      ]
     },
     "metadata": {},
     "output_type": "display_data"
    }
   ],
   "source": [
    "plt.title(\"Exploration map\")\n",
    "plt.imshow(robot.env.map)"
   ]
  },
  {
   "cell_type": "code",
   "execution_count": null,
   "id": "51ad11a9-dda1-4be5-9330-64b5b771e6be",
   "metadata": {},
   "outputs": [],
   "source": []
  }
 ],
 "metadata": {
  "kernelspec": {
   "display_name": "Python 3 (ipykernel)",
   "language": "python",
   "name": "python3"
  },
  "language_info": {
   "codemirror_mode": {
    "name": "ipython",
    "version": 3
   },
   "file_extension": ".py",
   "mimetype": "text/x-python",
   "name": "python",
   "nbconvert_exporter": "python",
   "pygments_lexer": "ipython3",
   "version": "3.11.7"
  }
 },
 "nbformat": 4,
 "nbformat_minor": 5
}
